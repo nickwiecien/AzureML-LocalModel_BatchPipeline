{
 "cells": [
  {
   "cell_type": "markdown",
   "source": [
    "## Azure ML - Model Registration\n",
    "Sample notebook demonstrating how to register (read: save and version) a trained ML model inside an Azure Machine Learning workspace. This step is required as a part of the workflow to deploy a model trained locally into Azure - [more details here](https://docs.microsoft.com/en-us/azure/machine-learning/how-to-deploy-and-where?tabs=python#registermodel)"
   ],
   "metadata": {}
  },
  {
   "cell_type": "code",
   "execution_count": null,
   "source": [
    "#Connect to AML workspace\r\n",
    "from azureml.core import Workspace\r\n",
    "\r\n",
    "# If working in an Azure ML Compute Instance, no additional steps need to be taken.\r\n",
    "# If running from a local machine, an Azure ML config file should be created/downloaded \r\n",
    "# per the documentation at https://docs.microsoft.com/en-us/azure/machine-learning/how-to-configure-environment#workspace\r\n",
    "ws = Workspace.from_config()"
   ],
   "outputs": [],
   "metadata": {}
  },
  {
   "cell_type": "code",
   "execution_count": null,
   "source": [
    "# Register locally-trained model into AML workspace\r\n",
    "# Note: you can optionally register a saved model directly in the AML Studio UI\r\n",
    "from azureml.core import Model\r\n",
    "\r\n",
    "model = Model.register(model_name='iris_classification', \r\n",
    "                       model_path='../ModelDevelopment_Local/model.pkl', \r\n",
    "                       workspace=ws,\r\n",
    "                       model_framework='scikit-learn',\r\n",
    "                       tags={'Model Type': 'Classification'}\r\n",
    "                      )\r\n",
    "model"
   ],
   "outputs": [],
   "metadata": {}
  }
 ],
 "metadata": {
  "kernelspec": {
   "display_name": "Python 3.6 - AzureML",
   "language": "python",
   "name": "python3-azureml"
  },
  "language_info": {
   "codemirror_mode": {
    "name": "ipython",
    "version": 3
   },
   "file_extension": ".py",
   "mimetype": "text/x-python",
   "name": "python",
   "nbconvert_exporter": "python",
   "pygments_lexer": "ipython3",
   "version": "3.6.9"
  }
 },
 "nbformat": 4,
 "nbformat_minor": 5
}