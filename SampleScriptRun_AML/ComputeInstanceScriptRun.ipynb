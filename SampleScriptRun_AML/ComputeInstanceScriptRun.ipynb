{
 "cells": [
  {
   "cell_type": "markdown",
   "id": "4e14f3da",
   "metadata": {},
   "source": [
    "## Azure ML - Submit a Sample Script Run\n",
    "This notebook demonstrates creation and execution of an Azure ML designed to execute a prepared python script using an pre-created AML environment on a Compute Instance. [More details can be found here.](https://docs.microsoft.com/en-us/azure/machine-learning/how-to-set-up-training-targets)"
   ]
  },
  {
   "cell_type": "code",
   "execution_count": null,
   "id": "c70ce081",
   "metadata": {},
   "outputs": [],
   "source": [
    "#Import required classes from AML SDK\n",
    "from azureml.core import Workspace, Experiment, Datastore, Environment, ScriptRunConfig\n",
    "from azureml.core.compute import ComputeInstance\n",
    "from azureml.core.runconfig import RunConfiguration\n",
    "\n",
    "#Connect to AML Workspace\n",
    "ws = Workspace.from_config()\n",
    "\n",
    "#Get default datastore\n",
    "default_ds = ws.get_default_datastore()\n",
    "\n",
    "#Create an experiment (logical container for your run)\n",
    "#Note: logs from a script execution can be found in the Outputs of this experiment\n",
    "experiment_name = '<YOUR-EXPERIMENT-NAME>'\n",
    "experiment = Experiment(workspace=ws, name=experiment_name)\n",
    "\n",
    "#Retrieve defined environment from AML workpsace by Name\n",
    "myenv = Environment.get(workspace=ws, name='<YOUR-ENVIRONMENT-NAME>')\n",
    "\n",
    "#Retrieve pointer to Compute Instance by name\n",
    "compute_instance_name = '<YOUR-COMPUTE-INSTANCE-NAME>'\n",
    "instance = ComputeInstance(workspace=ws, name=compute_instance_name)\n",
    "\n",
    "#Create a ScriptRunConfig object which defines python script to be executed,\n",
    "#target environment, and target compute resource (in this case your Compute Instance)\n",
    "src = ScriptRunConfig(source_directory='.',\n",
    "                      script='my_script.py',\n",
    "                      compute_target=instance,\n",
    "                      environment=myenv)\n",
    "\n",
    "#Submit the run and wait for completion\n",
    "#Note: often the first execution of a run will take some time as generally\n",
    "#environments are defined but not built ahead of execution. Subsequent runs\n",
    "#will be significantly faster.\n",
    "run = experiment.submit(config=src)\n",
    "run.wait_for_completion(show_output=True)"
   ]
  }
 ],
 "metadata": {
  "kernelspec": {
   "display_name": "Python 3.6 - AzureML",
   "language": "python",
   "name": "python3-azureml"
  },
  "language_info": {
   "codemirror_mode": {
    "name": "ipython",
    "version": 3
   },
   "file_extension": ".py",
   "mimetype": "text/x-python",
   "name": "python",
   "nbconvert_exporter": "python",
   "pygments_lexer": "ipython3",
   "version": "3.6.9"
  }
 },
 "nbformat": 4,
 "nbformat_minor": 5
}
